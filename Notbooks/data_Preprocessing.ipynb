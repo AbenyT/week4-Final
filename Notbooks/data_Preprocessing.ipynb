import pandas as pd
import os
import re
import csv
     

# Function to preprocess text data, handling NaN values
def preprocess_text(text):
    # Check if the text is NaN (float) or not a string
    if pd.isna(text):
        text = ""  # Replace NaN or non-string values with an empty string
    elif not isinstance(text, str):
        text = str(text)  # Ensure it's a string

    # Remove special characters and punctuation
    text = re.sub(r"[^\w\s]", "", text)

    print(f"Preprocessing text: {text[:50]}...")  # Show first 50 characters for preview
    return text
     

# Function to label a subset of the dataset in CoNLL format
def label_dataset(data, output_file):
    with open(output_file, 'w', encoding='utf-8') as f:
        for index, row in data.iterrows():
            text = row['preprocessed_text']
            # Tokenize the text and label entities manually or using a pre-trained NER model
            # Here we simply label them as O (outside any entity) for demonstration purposes
            for token in text.split():
                f.write(f"{token}\tO\n")
            f.write("\n")
        print(f"Saved labeled data in CoNLL format to {output_file}.")
     

# Load all individual channel CSV files and concatenate them into one DataFrame
def load_and_concatenate_csv_files(output_file, channels_folder='.', file_extension='.csv'):
    all_data = []

    # Iterate over all files in the folder
    for filename in os.listdir(channels_folder):
        if filename.endswith(file_extension):
            file_path = os.path.join(channels_folder, filename)
            df = pd.read_csv(file_path)
            all_data.append(df)

    # Concatenate all dataframes
    if all_data:
        combined_df = pd.concat(all_data, ignore_index=True)
        combined_df.to_csv(output_file, index=False)
        print(f"All data saved to {output_file}.")
    else:
        print("No CSV files found to concatenate.")
     

# Load, preprocess, and label data
def process_data():
    # Concatenate individual CSV files into 'telegram_data.csv'
    load_and_concatenate_csv_files('telegram_data.csv')

    # Load the concatenated data
    data = pd.read_csv('telegram_data.csv')
    print(f"Loaded {len(data)} rows of data from telegram_data.csv")

    # Preprocess the text data
    data['preprocessed_text'] = data['text'].apply(preprocess_text)
    print("Text data preprocessing completed.\n")

    # Label a subset of the data
    label_dataset(data.head(50), 'labeled_telegram_data_conll.txt')
    print("Labeling of data completed.\n")

# Run the process
process_data()
